{
 "cells": [
  {
   "cell_type": "code",
   "execution_count": 7,
   "metadata": {},
   "outputs": [],
   "source": [
    "from keras.applications import VGG16\n",
    "from keras.applications import imagenet_utils\n",
    "from keras.preprocessing.image import img_to_array\n",
    "from keras.preprocessing.image import load_img\n",
    "\n",
    "from imutils import paths\n",
    "import numpy as np\n",
    "import pickle\n",
    "import random\n",
    "import os"
   ]
  },
  {
   "cell_type": "code",
   "execution_count": 14,
   "metadata": {},
   "outputs": [
    {
     "name": "stdout",
     "output_type": "stream",
     "text": [
      "/Users/ravisher/Development/FatehLabs/AIDD-Project/Damage-Whole-Classifier\n"
     ]
    }
   ],
   "source": [
    "INPUT_SHAPE=[200, 200, 3]\n",
    "EPOCHS = 10\n",
    "LEARNING_RATE = 0.01 # default value for Adam Optimizer\n",
    "BATCH_SIZE = 32\n",
    "DATASET_DIR = 'dataset'\n",
    "DATASET_NAME = 'multi-label-dataset'\n",
    "CURR_DIR = os.getcwd()\n",
    "#TRAIN_CSV = 'train.csv'\n",
    "#LABEL_DICT = {'dmg': 'damage', 'whl': 'whole', 'mnr': 'minor', 'mod': 'moderate', 'svr': 'severe', 'frt': 'front', 'rr': 'rear', 'sd': 'side'}\n",
    "SUB_FOLDERS = ['damage', 'whole']\n",
    "\n",
    "print(CURR_DIR)"
   ]
  },
  {
   "cell_type": "code",
   "execution_count": 13,
   "metadata": {},
   "outputs": [
    {
     "name": "stderr",
     "output_type": "stream",
     "text": [
      "WARNING: Logging before flag parsing goes to stderr.\n",
      "W1125 22:57:39.973206 4703253952 deprecation_wrapper.py:119] From /Library/Frameworks/Python.framework/Versions/3.7/lib/python3.7/site-packages/keras/backend/tensorflow_backend.py:4070: The name tf.nn.max_pool is deprecated. Please use tf.nn.max_pool2d instead.\n",
      "\n"
     ]
    },
    {
     "name": "stdout",
     "output_type": "stream",
     "text": [
      "Downloading data from https://github.com/fchollet/deep-learning-models/releases/download/v0.1/vgg16_weights_tf_dim_ordering_tf_kernels_notop.h5\n",
      "58892288/58889256 [==============================] - 6s 0us/step\n"
     ]
    }
   ],
   "source": [
    "model = VGG16(weights='imagenet', include_top=False, input_shape=INPUT_SHAPE)\n"
   ]
  },
  {
   "cell_type": "code",
   "execution_count": 15,
   "metadata": {},
   "outputs": [
    {
     "name": "stdout",
     "output_type": "stream",
     "text": [
      "Dataset path:  /Users/ravisher/Development/FatehLabs/AIDD-Project/Damage-Whole-Classifier/dataset/damage\n",
      "Dataset path:  /Users/ravisher/Development/FatehLabs/AIDD-Project/Damage-Whole-Classifier/dataset/whole\n",
      "1840\n"
     ]
    }
   ],
   "source": [
    "images = []\n",
    "for folder in SUB_FOLDERS:\n",
    "    dataset_path = os.path.join(CURR_DIR, DATASET_DIR, folder)\n",
    "    print('Dataset path: ', dataset_path)\n",
    "    for file in os.listdir(dataset_path):\n",
    "        images.append(os.path.join(dataset_path, file))\n",
    "print(len(images))"
   ]
  },
  {
   "cell_type": "code",
   "execution_count": null,
   "metadata": {},
   "outputs": [],
   "source": [
    "random.seed(42)\n",
    "random.shuffle(images)\n",
    "import matplotlib.image as mpimg\n",
    "for img in images[:4]:\n",
    "    print(img)\n",
    "    image = mpimg.imread(img)\n",
    "    implot = plt.imshow(image)\n",
    "    plt.show()"
   ]
  }
 ],
 "metadata": {
  "kernelspec": {
   "display_name": "Python 3",
   "language": "python",
   "name": "python3"
  },
  "language_info": {
   "codemirror_mode": {
    "name": "ipython",
    "version": 3
   },
   "file_extension": ".py",
   "mimetype": "text/x-python",
   "name": "python",
   "nbconvert_exporter": "python",
   "pygments_lexer": "ipython3",
   "version": "3.7.4"
  }
 },
 "nbformat": 4,
 "nbformat_minor": 2
}
